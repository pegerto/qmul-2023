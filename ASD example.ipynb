{
 "cells": [
  {
   "cell_type": "markdown",
   "id": "af1ed761",
   "metadata": {},
   "source": [
    "# ASD"
   ]
  },
  {
   "cell_type": "markdown",
   "id": "00cc7400",
   "metadata": {},
   "source": [
    "AlloSteric Database (ASD) provides a platform for exhaustive information on allosteric proteins and their modulators. The database now contains 2,422 allosteric proteins from 425 species and 100,320 modulators in three categories (activators, inhibitors, and regulators). "
   ]
  },
  {
   "cell_type": "markdown",
   "id": "25dbcfda",
   "metadata": {},
   "source": [
    "![image](http://mdl.shsmu.edu.cn/ASD/css/images/help/document/framework.png)\n",
    "\n",
    "\n",
    "ASD: a comprehensive database of allosteric proteins and modulators. Nucleic Acids Res. 2011 Jan;39\n",
    "\n",
    "\n",
    "\n",
    "[Download page](http://mdl.shsmu.edu.cn/ASD/module/download/download.jsp?tabIndex=1)"
   ]
  },
  {
   "cell_type": "markdown",
   "id": "bd4f6923",
   "metadata": {},
   "source": [
    "## Install software"
   ]
  },
  {
   "cell_type": "code",
   "execution_count": 1,
   "id": "6606e7e6",
   "metadata": {},
   "outputs": [
    {
     "name": "stdout",
     "output_type": "stream",
     "text": [
      "Requirement already satisfied: ASDParser in /Users/pegerto.fernandez/brunel/ml/lib/python3.10/site-packages (0.3.3)\n",
      "Requirement already satisfied: seaborn in /Users/pegerto.fernandez/brunel/ml/lib/python3.10/site-packages (0.12.2)\n",
      "Requirement already satisfied: untangle>=1.2.0 in /Users/pegerto.fernandez/brunel/ml/lib/python3.10/site-packages (from ASDParser) (1.2.1)\n",
      "Requirement already satisfied: pandas>=0.25 in /Users/pegerto.fernandez/brunel/ml/lib/python3.10/site-packages (from seaborn) (1.5.3)\n",
      "Requirement already satisfied: matplotlib!=3.6.1,>=3.1 in /Users/pegerto.fernandez/brunel/ml/lib/python3.10/site-packages (from seaborn) (3.7.1)\n",
      "Requirement already satisfied: numpy!=1.24.0,>=1.17 in /Users/pegerto.fernandez/brunel/ml/lib/python3.10/site-packages (from seaborn) (1.24.3)\n",
      "Requirement already satisfied: python-dateutil>=2.7 in /Users/pegerto.fernandez/brunel/ml/lib/python3.10/site-packages (from matplotlib!=3.6.1,>=3.1->seaborn) (2.8.2)\n",
      "Requirement already satisfied: fonttools>=4.22.0 in /Users/pegerto.fernandez/brunel/ml/lib/python3.10/site-packages (from matplotlib!=3.6.1,>=3.1->seaborn) (4.39.3)\n",
      "Requirement already satisfied: kiwisolver>=1.0.1 in /Users/pegerto.fernandez/brunel/ml/lib/python3.10/site-packages (from matplotlib!=3.6.1,>=3.1->seaborn) (1.4.4)\n",
      "Requirement already satisfied: pillow>=6.2.0 in /Users/pegerto.fernandez/brunel/ml/lib/python3.10/site-packages (from matplotlib!=3.6.1,>=3.1->seaborn) (9.5.0)\n",
      "Requirement already satisfied: cycler>=0.10 in /Users/pegerto.fernandez/brunel/ml/lib/python3.10/site-packages (from matplotlib!=3.6.1,>=3.1->seaborn) (0.11.0)\n",
      "Requirement already satisfied: packaging>=20.0 in /Users/pegerto.fernandez/brunel/ml/lib/python3.10/site-packages (from matplotlib!=3.6.1,>=3.1->seaborn) (23.1)\n",
      "Requirement already satisfied: pyparsing>=2.3.1 in /Users/pegerto.fernandez/brunel/ml/lib/python3.10/site-packages (from matplotlib!=3.6.1,>=3.1->seaborn) (3.0.9)\n",
      "Requirement already satisfied: contourpy>=1.0.1 in /Users/pegerto.fernandez/brunel/ml/lib/python3.10/site-packages (from matplotlib!=3.6.1,>=3.1->seaborn) (1.0.7)\n",
      "Requirement already satisfied: pytz>=2020.1 in /Users/pegerto.fernandez/brunel/ml/lib/python3.10/site-packages (from pandas>=0.25->seaborn) (2023.3)\n",
      "Requirement already satisfied: defusedxml<0.8.0,>=0.7.1 in /Users/pegerto.fernandez/brunel/ml/lib/python3.10/site-packages (from untangle>=1.2.0->ASDParser) (0.7.1)\n",
      "Requirement already satisfied: six>=1.5 in /Users/pegerto.fernandez/brunel/ml/lib/python3.10/site-packages (from python-dateutil>=2.7->matplotlib!=3.6.1,>=3.1->seaborn) (1.16.0)\n",
      "\n",
      "\u001b[1m[\u001b[0m\u001b[34;49mnotice\u001b[0m\u001b[1;39;49m]\u001b[0m\u001b[39;49m A new release of pip available: \u001b[0m\u001b[31;49m22.3.1\u001b[0m\u001b[39;49m -> \u001b[0m\u001b[32;49m23.1.2\u001b[0m\n",
      "\u001b[1m[\u001b[0m\u001b[34;49mnotice\u001b[0m\u001b[1;39;49m]\u001b[0m\u001b[39;49m To update, run: \u001b[0m\u001b[32;49mpip install --upgrade pip\u001b[0m\n"
     ]
    }
   ],
   "source": [
    "!pip install ASDParser seaborn"
   ]
  },
  {
   "cell_type": "code",
   "execution_count": null,
   "id": "d1d0dfd6",
   "metadata": {},
   "outputs": [],
   "source": [
    "from asdparser.asd import AsdDB\n",
    "\n",
    "db_directory='/Users/pegerto.fernandez/brunel/ASD/ASD_Release_201909_XF'\n",
    "db = AsdDB(db_directory)"
   ]
  },
  {
   "cell_type": "markdown",
   "id": "eb819630",
   "metadata": {},
   "source": [
    "## Review the distribution of residues"
   ]
  },
  {
   "cell_type": "code",
   "execution_count": null,
   "id": "ffb1d6b2",
   "metadata": {},
   "outputs": [],
   "source": [
    "def parse_residue_type(site):\n",
    "    \"\"\" Extracts residue type from a site_resesidue string of the form:\n",
    "        Chain A:PRO192,ILE105,TRP109;Chain B:HIS23,ASP233\n",
    "    \"\"\"\n",
    "    if ';' in site:\n",
    "        split = site.split(';',1)\n",
    "        return parse_residue_type(split[0]) +   parse_residue_type(split[1])\n",
    "    _ , residues_str = site.split(':')\n",
    "    residues = residues_str.split(',')\n",
    "    return list(map(lambda x: x[0:3],residues))\n",
    "    \n",
    "\n",
    "allosteric_sites = [site.site_residues for p in db.proteins.values() for site in p.allosteric_sites]\n",
    "residues = [r for site in allosteric_sites for r in parse_residue_type(site)]"
   ]
  },
  {
   "cell_type": "code",
   "execution_count": null,
   "id": "51b53097",
   "metadata": {},
   "outputs": [],
   "source": [
    "import seaborn as sns\n",
    "import pandas as pd\n",
    "\n",
    "df = pd.DataFrame({\"residues\": residues})\n",
    "\n",
    "ax = sns.countplot(x=\"residues\", data=df)\n",
    "ax.tick_params(axis='x', rotation=90)"
   ]
  },
  {
   "cell_type": "code",
   "execution_count": null,
   "id": "77bdd6d5",
   "metadata": {},
   "outputs": [],
   "source": []
  },
  {
   "cell_type": "code",
   "execution_count": null,
   "id": "6c4db149",
   "metadata": {},
   "outputs": [],
   "source": []
  }
 ],
 "metadata": {
  "kernelspec": {
   "display_name": "Python 3 (ipykernel)",
   "language": "python",
   "name": "python3"
  },
  "language_info": {
   "codemirror_mode": {
    "name": "ipython",
    "version": 3
   },
   "file_extension": ".py",
   "mimetype": "text/x-python",
   "name": "python",
   "nbconvert_exporter": "python",
   "pygments_lexer": "ipython3",
   "version": "3.10.12"
  }
 },
 "nbformat": 4,
 "nbformat_minor": 5
}
